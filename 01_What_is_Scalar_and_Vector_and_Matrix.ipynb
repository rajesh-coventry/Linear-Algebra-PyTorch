{
 "cells": [
  {
   "cell_type": "markdown",
   "id": "522b112b",
   "metadata": {},
   "source": [
    "# **Scalar, Vector and Matrix:**"
   ]
  },
  {
   "cell_type": "markdown",
   "id": "bb62d661",
   "metadata": {},
   "source": [
    "## **1. Scalar:**"
   ]
  },
  {
   "cell_type": "markdown",
   "id": "b7b95690",
   "metadata": {},
   "source": [
    "A scalar is a single numerical value - essentially just a regular number. It's the most basic mathematical object, representing a quantity with magnitude but no direction, unlike vectors which have both magnitude and direction, or matrices which are arrays of numbers.\n",
    "\n",
    "Scalars are typically denoted using lowercase letters, often in italics:\n",
    "   \n",
    "   - *a*, *b*, *c*, *x*, *y*, *z*\n",
    "   \n",
    "   - Greek letters: *$α$* (alpha), *$β$* (beta), *$λ$* (lambda)\n",
    "   \n",
    "   - Sometimes with subscripts: *$a₁$*, *$a₂$*, *$x₀$*\n",
    "\n",
    "In mathematical contexts, scalars are usually written in italics to distinguish them from vectors (bold lowercase) and matrices (bold uppercase).\n",
    "\n",
    "### **Usefulness in Deep Learning:**\n",
    "\n",
    "**Scalars play crucial roles in deep learning:**\n",
    "\n",
    "1. **`Learning Rate`**: Perhaps the most important scalar hyperparameter, controlling how much model parameters are updated during training. A learning rate of 0.001 means parameters are adjusted by small increments.\n",
    "\n",
    "2. **`Loss Values`**: The output of loss functions are scalars representing how well the model is performing. During training, we minimize these scalar values.\n",
    "\n",
    "3. **`Regularization Parameters`**: Lambda values in $L1/L2$ regularization are scalars that control the strength of regularization applied to prevent overfitting.\n",
    "\n",
    "4. **`Batch Size and Epochs`**: These are scalar hyperparameters that determine training behavior - how many samples to process at once and how many times to iterate through the dataset.\n",
    "\n",
    "5. **`Activation Function Parameters`**: Some activation functions use scalar parameters, like the alpha parameter in LeakyReLU or the beta parameter in Swish.\n",
    "\n",
    "6. **`Temperature in Softmax`**: A scalar parameter that controls the \"sharpness\" of probability distributions in classification tasks.\n",
    "\n",
    "### **Defining Scalars in PyTorch:**\n",
    "\n",
    "**PyTorch provides several ways to create and work with scalars:**"
   ]
  },
  {
   "cell_type": "code",
   "execution_count": null,
   "id": "fd1a9816",
   "metadata": {},
   "outputs": [
    {
     "name": "stdout",
     "output_type": "stream",
     "text": [
      "Scalar-1: 3.140000104904175\n",
      "Scalar-2: 42\n",
      "Scalar-3: 2.0\n",
      "Learning Rate: 0.009999999776482582\n",
      "Loss: 0.5\n",
      "Scaled Loss: 1.0\n",
      "Python umber: 3.14\n",
      "Tensor Scalar: 3.140000104904175\n",
      "Scalaed Value: 1.0\n"
     ]
    }
   ],
   "source": [
    "import torch\n",
    "\n",
    "# Creating scalars\n",
    "scalar1 = torch.tensor(3.14)           # Float scalar\n",
    "scalar2 = torch.tensor(42)             # Integer scalar\n",
    "scalar3 = torch.tensor(2.0, dtype=torch.float32)  # Explicit dtype\n",
    "print(f\"Scalar-1: {scalar1}\")\n",
    "print(f\"Scalar-2: {scalar2}\")\n",
    "print(f\"Scalar-3: {scalar3}\")\n",
    "# Creating scalars on GPU\n",
    "# scalar_gpu = torch.tensor(5.0, device='cuda')\n",
    "\n",
    "# Creating scalars that require gradients (for optimization)\n",
    "learning_rate = torch.tensor(0.01, requires_grad=True)\n",
    "print(f\"Learning Rate: {learning_rate}\")\n",
    "\n",
    "# Using scalar operations\n",
    "loss = torch.tensor(0.5, requires_grad=True)\n",
    "print(f\"Loss: {loss}\")\n",
    "scaled_loss = loss * 2.0  # Scalar multiplication\n",
    "print(f\"Scaled Loss: {scaled_loss}\")\n",
    "\n",
    "# Converting Python numbers to tensors\n",
    "python_num = 3.14\n",
    "print(f\"Python umber: {python_num}\")\n",
    "tensor_scalar = torch.tensor(python_num)\n",
    "print(f\"Tensor Scalar: {tensor_scalar}\")\n",
    "# Extracting scalar values\n",
    "scalar_value = tensor_scalar.item()  # Returns Python number\n",
    "print(f\"Scalaed Value: {scaled_loss}\")"
   ]
  },
  {
   "cell_type": "markdown",
   "id": "5572d597",
   "metadata": {},
   "source": [
    "### **Properties of Scalars:**\n",
    "\n",
    "1. **`Commutativity`**:    \n",
    "   \n",
    "   Scalar operations are commutative, meaning *$a + b = b + a$* and *$a × b = b × a$*. This property doesn't hold for matrix operations.\n",
    "\n",
    "2. **`Associativity`**: \n",
    "\n",
    "   For scalars, *$(a + b) + c = a + (b + c)$* and *$(a × b) × c = a × (b × c)$*. This allows flexible grouping in calculations.\n",
    "\n",
    "3. **`Distributivity`**:   \n",
    "   \n",
    "   Scalars distribute over addition: *$a × (b + c) = a × b + a × c$*. This property is fundamental in expanding algebraic expressions.\n",
    "\n",
    "4. **`Identity Elements`**:    \n",
    "   \n",
    "   The additive identity is 0 (*$a + 0 = a$*) and the multiplicative identity is 1 (*$a × 1 = a$*). These are crucial for maintaining values during operations.\n",
    "\n",
    "5. **`Inverse Elements`**:    \n",
    "\n",
    "   Every scalar *$a$* has an additive inverse *$-a$* such that *$a + (-a) = 0$*, and every non-zero scalar has a multiplicative inverse *$1/a$* such that *$a × (1/a) = 1$*.\n",
    "\n",
    "6. **`Scalar Multiplication with Vectors`**:   \n",
    "   \n",
    "   When multiplying a scalar with a vector, the scalar multiplies each component of the vector: *$c × [x, y, z] = [c×x, c×y, c×z]$*. This scales the vector's magnitude while preserving its direction.\n",
    "\n",
    "7. **`Scalar Multiplication with Matrices`**:    \n",
    "   \n",
    "   Similarly, scalar multiplication with matrices multiplies each element: *$c × [[a, b], [c, d]] = [[c×a, c×b], [c×c, c×d]]$*."
   ]
  },
  {
   "cell_type": "markdown",
   "id": "1c1cf63e",
   "metadata": {},
   "source": [
    "8.  **`Field Properties`**:    \n",
    "   Scalars typically come from a field (like real numbers $ℝ$ or complex numbers $ℂ$), which means they satisfy all the algebraic properties mentioned above. This mathematical structure is what makes linear algebra operations well-defined and consistent.\n",
    "\n",
    "9. **`Dimension`**:   \n",
    "    \n",
    "   Scalars are zero-dimensional objects - they have no spatial extent, unlike vectors (1D), matrices (2D), or higher-order tensors.\n",
    "\n",
    "10. **`Invariance`**:   \n",
    "  Scalars remain unchanged under coordinate transformations. While vectors and matrices can change representation when you rotate or translate coordinate systems, scalars maintain their value.\n",
    "\n",
    "These properties make scalars the foundation for more complex linear algebra operations and are essential for understanding how deep learning algorithms manipulate data through mathematical transformations."
   ]
  },
  {
   "cell_type": "markdown",
   "id": "b183dc42",
   "metadata": {},
   "source": [
    "-------------\n",
    "-------------\n",
    "---------------"
   ]
  },
  {
   "cell_type": "markdown",
   "id": "74fe87a5",
   "metadata": {},
   "source": [
    "## **Number Sets:**\n",
    "\n",
    "\n",
    "**1. Natural Numbers (ℕ):**\n",
    "   - **Values**: {1, 2, 3, 4, 5, 6, ...}\n",
    "   - **Description**: Positive counting numbers, sometimes includes 0 depending on context\n",
    "\n",
    "**2. Whole Numbers (𝕎):** \n",
    "  - **Values**: {0, 1, 2, 3, 4, 5, ...}\n",
    "  - **Description**: Natural numbers plus zero\n",
    "\n",
    "**3. Integers (ℤ):**\n",
    "  - **Values**: {..., -3, -2, -1, 0, 1, 2, 3, ...}\n",
    "  - **Description**: Whole numbers plus negative numbers\n",
    "\n",
    "**4. Rational Numbers (ℚ):**\n",
    "  - **Values**: All fractions p/q where p, q are integers and q ≠ 0\n",
    "  - **Examples**: 1/2, -3/4, 5, 0.25, 0.333..., -2.5\n",
    "  - **Description**: Numbers that can be expressed as fractions\n",
    "\n",
    "**5. Irrational Numbers:**\n",
    "  - **Values**: Numbers that cannot be expressed as fractions\n",
    "  - **Examples**: π, e, √2, √3, φ (golden ratio)\n",
    "  - **Description**: Non-repeating, non-terminating decimals\n",
    "\n",
    "**6. Real Numbers (ℝ):**  \n",
    "  - **Values**: All rational and irrational numbers combined\n",
    "  - **Description**: All numbers on the number line, includes everything above\n",
    "\n",
    "**7. Complex Numbers (ℂ):**\n",
    "  - **Values**: Numbers of the form a + bi where a, b are real and i = √(-1)\n",
    "  - **Examples**: 3 + 4i, -2 - 5i, 7 (pure real), 3i (pure imaginary)\n",
    "  - **Description**: Includes real numbers plus imaginary numbers\n",
    "\n",
    "**Quick Memory Aid:**\n",
    "> $ℕ ⊂ 𝕎 ⊂ ℤ ⊂ ℚ ⊂ ℝ ⊂ ℂ$"
   ]
  },
  {
   "cell_type": "markdown",
   "id": "c10fe1ce",
   "metadata": {},
   "source": [
    "-----\n",
    "-----------\n",
    "--------------"
   ]
  },
  {
   "cell_type": "markdown",
   "id": "9a0b8231",
   "metadata": {},
   "source": [
    "## **2. Vectors:**"
   ]
  },
  {
   "cell_type": "markdown",
   "id": "09455842",
   "metadata": {},
   "source": []
  }
 ],
 "metadata": {
  "kernelspec": {
   "display_name": "Python 3",
   "language": "python",
   "name": "python3"
  },
  "language_info": {
   "codemirror_mode": {
    "name": "ipython",
    "version": 3
   },
   "file_extension": ".py",
   "mimetype": "text/x-python",
   "name": "python",
   "nbconvert_exporter": "python",
   "pygments_lexer": "ipython3",
   "version": "3.12.7"
  }
 },
 "nbformat": 4,
 "nbformat_minor": 5
}
