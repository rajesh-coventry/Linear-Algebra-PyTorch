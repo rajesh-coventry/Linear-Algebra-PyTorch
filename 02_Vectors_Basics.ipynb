{
 "cells": [
  {
   "cell_type": "markdown",
   "id": "e3215f3f",
   "metadata": {},
   "source": [
    "# **Basics: Vectors:**"
   ]
  },
  {
   "cell_type": "markdown",
   "id": "deb22589",
   "metadata": {},
   "source": []
  }
 ],
 "metadata": {
  "language_info": {
   "name": "python"
  }
 },
 "nbformat": 4,
 "nbformat_minor": 5
}
